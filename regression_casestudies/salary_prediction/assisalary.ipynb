{
 "cells": [
  {
   "cell_type": "code",
   "execution_count": 30,
   "metadata": {},
   "outputs": [],
   "source": [
    "import pandas as pd \n",
    "import numpy as np \n",
    "import matplotlib.pyplot as plt \n",
    "import seaborn as sns \n",
    "import warnings\n",
    "warnings.filterwarnings('ignore')"
   ]
  },
  {
   "cell_type": "code",
   "execution_count": null,
   "metadata": {},
   "outputs": [],
   "source": [
    "df=pd.read_csv('E://desktop/data/Salary_Data.csv')\n",
    "df"
   ]
  },
  {
   "cell_type": "code",
   "execution_count": 45,
   "metadata": {},
   "outputs": [],
   "source": [
    "from sklearn.model_selection import train_test_split\n",
    "xtrain,xtest,ytrain,ytest=train_test_split(df['YearsExperience'],df['Salary'], test_size=0.1, random_state=10)"
   ]
  },
  {
   "cell_type": "code",
   "execution_count": 46,
   "metadata": {},
   "outputs": [
    {
     "name": "stdout",
     "output_type": "stream",
     "text": [
      "training score 0.9555026054461231\n"
     ]
    }
   ],
   "source": [
    "xtrain=np.array(xtrain).reshape(-1,1)\n",
    "xtest=np.array(xtest).reshape(-1,1)\n",
    "ytrain=np.array(ytrain).reshape(-1,1)\n",
    "ytest=np.array(ytest).reshape(-1,1)\n",
    "from sklearn.linear_model import LinearRegression\n",
    "lr=LinearRegression()\n",
    "lr.fit(xtrain,ytrain)\n",
    "print('training score',lr.score(xtrain, ytrain))\n"
   ]
  },
  {
   "cell_type": "code",
   "execution_count": 47,
   "metadata": {},
   "outputs": [
    {
     "name": "stdout",
     "output_type": "stream",
     "text": [
      "testing score 0.9783072578423123\n"
     ]
    }
   ],
   "source": [
    "from sklearn.metrics import r2_score\n",
    "yhat=lr.predict(xtest)\n",
    "print('testing score',r2_score(yhat,ytest))"
   ]
  },
  {
   "cell_type": "markdown",
   "metadata": {},
   "source": [
    "so its returning us 89% testign score"
   ]
  },
  {
   "cell_type": "code",
   "execution_count": 59,
   "metadata": {},
   "outputs": [
    {
     "name": "stdout",
     "output_type": "stream",
     "text": [
      "trainging score rfr 0.9874834146208609\n",
      "testing score 0.9341116040335318\n",
      "#######################################\n",
      "trainging score svr 0.9998066501944141\n",
      "testing score 0.8381763780289657\n",
      "#######################################\n",
      "trainging score dt 0.9999673044559799\n",
      "testing score 0.8222433804973143\n",
      "#######################################\n",
      "trainging score dt 0.989328305377777\n",
      "testing score 0.9127465505265621\n"
     ]
    }
   ],
   "source": [
    "from sklearn.ensemble import RandomForestRegressor\n",
    "from sklearn.ensemble import GradientBoostingRegressor\n",
    "from sklearn.tree import DecisionTreeRegressor\n",
    "from sklearn.ensemble import BaggingRegressor\n",
    "rfr=RandomForestRegressor(max_depth=3)\n",
    "gb=GradientBoostingRegressor(alpha=0.01)\n",
    "dt=DecisionTreeRegressor()\n",
    "bgr=BaggingRegressor()\n",
    "bgr.fit(xtrain,ytrain)\n",
    "rfr.fit(xtrain,ytrain)\n",
    "gb.fit(xtrain,ytrain)\n",
    "dt.fit(xtrain,ytrain)\n",
    "yhat_rfr=rfr.predict(xtest)\n",
    "yhat_gb=gb.predict(xtest)\n",
    "yhat_dt=dt.predict(xtest)\n",
    "yhat_bgr=bgr.predict(xtest)\n",
    "print('trainging score rfr',rfr.score(xtrain,ytrain))\n",
    "print('testing score',r2_score(yhat_rfr,ytest))\n",
    "print('#######################################')\n",
    "print('trainging score svr',gb.score(xtrain,ytrain))\n",
    "print('testing score',r2_score(yhat_gb,ytest))\n",
    "print('#######################################')\n",
    "print('trainging score dt',dt.score(xtrain,ytrain))\n",
    "print('testing score',r2_score(yhat_dt,ytest))\n",
    "print('#######################################')\n",
    "print('trainging score dt',bgr.score(xtrain,ytrain))\n",
    "print('testing score',r2_score(yhat_bgr,ytest))"
   ]
  },
  {
   "cell_type": "markdown",
   "metadata": {},
   "source": [
    "# voting regressor"
   ]
  },
  {
   "cell_type": "code",
   "execution_count": 64,
   "metadata": {},
   "outputs": [
    {
     "name": "stdout",
     "output_type": "stream",
     "text": [
      "testing score 0.9854818191208959\n",
      "testing scor 0.9626967730211381\n"
     ]
    }
   ],
   "source": [
    "from sklearn.ensemble import VotingRegressor\n",
    "vr=VotingRegressor([('rfr',rfr),('lr',lr),('bgr',bgr)])\n",
    "vr.fit(xtrain,ytrain)\n",
    "yhat=vr.predict(xtest)\n",
    "print('testing score',vr.score(xtrain,ytrain))\n",
    "print('testing scor',r2_score(yhat,ytest))\n"
   ]
  },
  {
   "cell_type": "code",
   "execution_count": null,
   "metadata": {},
   "outputs": [],
   "source": []
  }
 ],
 "metadata": {
  "kernelspec": {
   "display_name": "Python 3",
   "language": "python",
   "name": "python3"
  },
  "language_info": {
   "codemirror_mode": {
    "name": "ipython",
    "version": 3
   },
   "file_extension": ".py",
   "mimetype": "text/x-python",
   "name": "python",
   "nbconvert_exporter": "python",
   "pygments_lexer": "ipython3",
   "version": "3.9.1"
  }
 },
 "nbformat": 4,
 "nbformat_minor": 4
}
